{
 "cells": [
  {
   "cell_type": "code",
   "execution_count": 12,
   "id": "0300c25a-387f-4667-a6f7-eb932c4ca205",
   "metadata": {
    "tags": []
   },
   "outputs": [],
   "source": [
    "import pandas as pd\n",
    "import matplotlib\n",
    "import matplotlib.pyplot as plt\n",
    "import matplotlib.colors as colors"
   ]
  },
  {
   "cell_type": "code",
   "execution_count": 2,
   "id": "3244c3d9-ca75-42f5-ba0d-fe08a0d1939c",
   "metadata": {
    "tags": []
   },
   "outputs": [
    {
     "data": {
      "text/html": [
       "<div>\n",
       "<style scoped>\n",
       "    .dataframe tbody tr th:only-of-type {\n",
       "        vertical-align: middle;\n",
       "    }\n",
       "\n",
       "    .dataframe tbody tr th {\n",
       "        vertical-align: top;\n",
       "    }\n",
       "\n",
       "    .dataframe thead th {\n",
       "        text-align: right;\n",
       "    }\n",
       "</style>\n",
       "<table border=\"1\" class=\"dataframe\">\n",
       "  <thead>\n",
       "    <tr style=\"text-align: right;\">\n",
       "      <th></th>\n",
       "      <th>DEPARTAMENTO</th>\n",
       "      <th>MUNICIPIO</th>\n",
       "      <th>CODIGO DANE</th>\n",
       "      <th>ARMAS MEDIOS</th>\n",
       "      <th>FECHA HECHO</th>\n",
       "      <th>GENERO</th>\n",
       "      <th>GRUPO ETARÍO</th>\n",
       "      <th>DESCRIPCIÓN CONDUCTA</th>\n",
       "      <th>CANTIDAD</th>\n",
       "    </tr>\n",
       "  </thead>\n",
       "  <tbody>\n",
       "    <tr>\n",
       "      <th>0</th>\n",
       "      <td>ANTIOQUIA</td>\n",
       "      <td>LA CEJA</td>\n",
       "      <td>5376000</td>\n",
       "      <td>MOTO</td>\n",
       "      <td>1/01/2010</td>\n",
       "      <td>MASCULINO</td>\n",
       "      <td>ADULTOS</td>\n",
       "      <td>ARTÍCULO 109. HOMICIDIO CULPOSO ( EN ACCIDENTE...</td>\n",
       "      <td>1</td>\n",
       "    </tr>\n",
       "    <tr>\n",
       "      <th>1</th>\n",
       "      <td>ATLÁNTICO</td>\n",
       "      <td>BARRANQUILLA (CT)</td>\n",
       "      <td>8001000</td>\n",
       "      <td>MOTO</td>\n",
       "      <td>1/01/2010</td>\n",
       "      <td>FEMENINO</td>\n",
       "      <td>ADULTOS</td>\n",
       "      <td>ARTÍCULO 109. HOMICIDIO CULPOSO ( EN ACCIDENTE...</td>\n",
       "      <td>1</td>\n",
       "    </tr>\n",
       "    <tr>\n",
       "      <th>2</th>\n",
       "      <td>ATLÁNTICO</td>\n",
       "      <td>LURUACO</td>\n",
       "      <td>8421000</td>\n",
       "      <td>MOTO</td>\n",
       "      <td>1/01/2010</td>\n",
       "      <td>MASCULINO</td>\n",
       "      <td>ADULTOS</td>\n",
       "      <td>ARTÍCULO 109. HOMICIDIO CULPOSO ( EN ACCIDENTE...</td>\n",
       "      <td>1</td>\n",
       "    </tr>\n",
       "    <tr>\n",
       "      <th>3</th>\n",
       "      <td>CAQUETÁ</td>\n",
       "      <td>PUERTO RICO</td>\n",
       "      <td>18592000</td>\n",
       "      <td>MOTO</td>\n",
       "      <td>1/01/2010</td>\n",
       "      <td>MASCULINO</td>\n",
       "      <td>ADOLESCENTES</td>\n",
       "      <td>ARTÍCULO 109. HOMICIDIO CULPOSO ( EN ACCIDENTE...</td>\n",
       "      <td>1</td>\n",
       "    </tr>\n",
       "    <tr>\n",
       "      <th>4</th>\n",
       "      <td>CASANARE</td>\n",
       "      <td>AGUAZUL</td>\n",
       "      <td>85010000</td>\n",
       "      <td>MOTO</td>\n",
       "      <td>1/01/2010</td>\n",
       "      <td>MASCULINO</td>\n",
       "      <td>ADULTOS</td>\n",
       "      <td>ARTÍCULO 109. HOMICIDIO CULPOSO ( EN ACCIDENTE...</td>\n",
       "      <td>1</td>\n",
       "    </tr>\n",
       "  </tbody>\n",
       "</table>\n",
       "</div>"
      ],
      "text/plain": [
       "  DEPARTAMENTO          MUNICIPIO  CODIGO DANE ARMAS MEDIOS FECHA HECHO  \\\n",
       "0    ANTIOQUIA            LA CEJA      5376000         MOTO   1/01/2010   \n",
       "1    ATLÁNTICO  BARRANQUILLA (CT)      8001000         MOTO   1/01/2010   \n",
       "2    ATLÁNTICO            LURUACO      8421000         MOTO   1/01/2010   \n",
       "3      CAQUETÁ        PUERTO RICO     18592000         MOTO   1/01/2010   \n",
       "4     CASANARE            AGUAZUL     85010000         MOTO   1/01/2010   \n",
       "\n",
       "      GENERO  GRUPO ETARÍO                               DESCRIPCIÓN CONDUCTA  \\\n",
       "0  MASCULINO       ADULTOS  ARTÍCULO 109. HOMICIDIO CULPOSO ( EN ACCIDENTE...   \n",
       "1   FEMENINO       ADULTOS  ARTÍCULO 109. HOMICIDIO CULPOSO ( EN ACCIDENTE...   \n",
       "2  MASCULINO       ADULTOS  ARTÍCULO 109. HOMICIDIO CULPOSO ( EN ACCIDENTE...   \n",
       "3  MASCULINO  ADOLESCENTES  ARTÍCULO 109. HOMICIDIO CULPOSO ( EN ACCIDENTE...   \n",
       "4  MASCULINO       ADULTOS  ARTÍCULO 109. HOMICIDIO CULPOSO ( EN ACCIDENTE...   \n",
       "\n",
       "   CANTIDAD  \n",
       "0         1  \n",
       "1         1  \n",
       "2         1  \n",
       "3         1  \n",
       "4         1  "
      ]
     },
     "execution_count": 2,
     "metadata": {},
     "output_type": "execute_result"
    }
   ],
   "source": [
    "path=\"dataset_electiva3.csv\"\n",
    "df = pd.read_csv(path)\n",
    "df.head()"
   ]
  },
  {
   "cell_type": "code",
   "execution_count": 3,
   "id": "0a2a9407-da77-4b2f-b602-493fef4ef9c2",
   "metadata": {
    "tags": []
   },
   "outputs": [
    {
     "name": "stdout",
     "output_type": "stream",
     "text": [
      "Número de filas:  68081\n"
     ]
    }
   ],
   "source": [
    "print(\"Número de filas: \", df.shape[0])"
   ]
  },
  {
   "cell_type": "code",
   "execution_count": 4,
   "id": "1d82ddce-c512-4a50-b6f7-150afc4b8e99",
   "metadata": {
    "tags": []
   },
   "outputs": [
    {
     "name": "stdout",
     "output_type": "stream",
     "text": [
      "Número de atributos descriptivos opción 1:  9\n"
     ]
    }
   ],
   "source": [
    "print(\"Número de atributos descriptivos opción 1: \", df.shape[1])"
   ]
  },
  {
   "cell_type": "code",
   "execution_count": 5,
   "id": "bcf5f432-9677-4dee-af3e-6c9405770c91",
   "metadata": {
    "tags": []
   },
   "outputs": [
    {
     "name": "stdout",
     "output_type": "stream",
     "text": [
      "Nombres de atributos descriptivos:  ['DEPARTAMENTO', 'MUNICIPIO', 'CODIGO DANE', 'ARMAS MEDIOS', 'FECHA HECHO', 'GENERO', 'GRUPO ETARÍO', 'DESCRIPCIÓN CONDUCTA', 'CANTIDAD']\n"
     ]
    }
   ],
   "source": [
    "print(\"Nombres de atributos descriptivos: \", df.columns.tolist())"
   ]
  },
  {
   "cell_type": "code",
   "execution_count": 6,
   "id": "c75dd336-9077-401b-a3f6-08a1eca8a8a0",
   "metadata": {
    "tags": []
   },
   "outputs": [
    {
     "name": "stdout",
     "output_type": "stream",
     "text": [
      "Valores faltantes en el conjunto de datos:  False\n",
      "Valores faltantes por columna: \n",
      " DEPARTAMENTO            0\n",
      "MUNICIPIO               0\n",
      "CODIGO DANE             0\n",
      "ARMAS MEDIOS            0\n",
      "FECHA HECHO             0\n",
      "GENERO                  0\n",
      "GRUPO ETARÍO            0\n",
      "DESCRIPCIÓN CONDUCTA    0\n",
      "CANTIDAD                0\n",
      "dtype: int64\n"
     ]
    }
   ],
   "source": [
    "# Verificar si hay valores faltantes en el conjunto de datos\n",
    "print(\"Valores faltantes en el conjunto de datos: \", df.isnull().values.any())\n",
    "\n",
    "# Verificar en qué columnas hay valores faltantes\n",
    "print(\"Valores faltantes por columna: \\n\", df.isnull().sum())"
   ]
  },
  {
   "cell_type": "code",
   "execution_count": 7,
   "id": "4bff28a5-c869-4540-93f5-a54603cd9352",
   "metadata": {
    "tags": []
   },
   "outputs": [
    {
     "name": "stdout",
     "output_type": "stream",
     "text": [
      "DEPARTAMENTO            object\n",
      "MUNICIPIO               object\n",
      "CODIGO DANE              int64\n",
      "ARMAS MEDIOS            object\n",
      "FECHA HECHO             object\n",
      "GENERO                  object\n",
      "GRUPO ETARÍO            object\n",
      "DESCRIPCIÓN CONDUCTA    object\n",
      "CANTIDAD                 int64\n",
      "dtype: object\n"
     ]
    }
   ],
   "source": [
    "# Tipos de datos de cada variable, para identificar variables categoricas y númericas\n",
    "print(df.dtypes)\n",
    "\n",
    "# seleccionar variables categóricas\n",
    "df_categorico = df.select_dtypes(include=['object'])\n",
    "\n",
    "\n",
    "# seleccionar variables numéricas\n",
    "df_numerico = df.select_dtypes(include=['int', 'float'])"
   ]
  },
  {
   "cell_type": "code",
   "execution_count": 10,
   "id": "a5139d34-a1da-45a7-96bd-d6b8559e845a",
   "metadata": {
    "tags": []
   },
   "outputs": [
    {
     "name": "stdout",
     "output_type": "stream",
     "text": [
      "Frecuencia de la variable 'FECHA HECHO': \n",
      " 01/01/2022    51\n",
      "7/02/2021     48\n",
      "17/07/2022    47\n",
      "1/01/2021     46\n",
      "31/07/2022    45\n",
      "              ..\n",
      "26/03/2020     2\n",
      "23/08/2012     1\n",
      "8/08/2013      1\n",
      "27/03/2020     1\n",
      "24/07/2012     1\n",
      "Name: FECHA HECHO, Length: 4960, dtype: int64\n"
     ]
    }
   ],
   "source": [
    "frecuencia_fecha = df_categorico['FECHA HECHO'].value_counts()\n",
    "print(\"Frecuencia de la variable 'FECHA HECHO': \\n\", frecuencia_fecha)"
   ]
  },
  {
   "cell_type": "code",
   "execution_count": 9,
   "id": "f69aa3db-b665-4b7e-9a5f-6e8abbdd8782",
   "metadata": {
    "tags": []
   },
   "outputs": [
    {
     "name": "stdout",
     "output_type": "stream",
     "text": [
      "Frecuencia de la variable 'DEPARTAMENTO': \n",
      " CUNDINAMARCA          10255\n",
      "ANTIOQUIA              9014\n",
      "VALLE                  8372\n",
      "SANTANDER              3473\n",
      "CESAR                  2795\n",
      "TOLIMA                 2737\n",
      "CÓRDOBA                2600\n",
      "BOLÍVAR                2364\n",
      "CAUCA                  2361\n",
      "ATLÁNTICO              2287\n",
      "NORTE DE SANTANDER     2244\n",
      "HUILA                  2177\n",
      "BOYACÁ                 2046\n",
      "NARIÑO                 2024\n",
      "META                   1942\n",
      "MAGDALENA              1853\n",
      "RISARALDA              1650\n",
      "CALDAS                 1294\n",
      "GUAJIRA                1280\n",
      "CASANARE               1150\n",
      "QUINDÍO                1089\n",
      "SUCRE                   981\n",
      "ARAUCA                  601\n",
      "CAQUETÁ                 538\n",
      "PUTUMAYO                416\n",
      "CHOCÓ                   229\n",
      "SAN ANDRÉS              157\n",
      "GUAVIARE                 63\n",
      "VICHADA                  56\n",
      "AMAZONAS                 18\n",
      "GUAINÍA                  12\n",
      "VAUPÉS                    3\n",
      "Name: DEPARTAMENTO, dtype: int64\n"
     ]
    }
   ],
   "source": [
    "frecuencia_departamento=df_categorico['DEPARTAMENTO'].value_counts()\n",
    "print(\"Frecuencia de la variable 'DEPARTAMENTO': \\n\", frecuencia_departamento)"
   ]
  },
  {
   "cell_type": "code",
   "execution_count": 23,
   "id": "b0056482-0cec-4276-984c-70d07584314a",
   "metadata": {
    "tags": []
   },
   "outputs": [
    {
     "ename": "AttributeError",
     "evalue": "'str' object has no attribute 'size'",
     "output_type": "error",
     "traceback": [
      "\u001b[1;31m---------------------------------------------------------------------------\u001b[0m",
      "\u001b[1;31mAttributeError\u001b[0m                            Traceback (most recent call last)",
      "Cell \u001b[1;32mIn[23], line 1\u001b[0m\n\u001b[1;32m----> 1\u001b[0m \u001b[38;5;28;01mfor\u001b[39;00m i \u001b[38;5;129;01min\u001b[39;00m \u001b[38;5;28mrange\u001b[39m(\u001b[38;5;241m0\u001b[39m,path\u001b[38;5;241m.\u001b[39msize()):\n\u001b[0;32m      2\u001b[0m    \u001b[38;5;28;01mif\u001b[39;00m df_categorico[\u001b[38;5;124m'\u001b[39m\u001b[38;5;124mDEPARTAMENTO\u001b[39m\u001b[38;5;124m'\u001b[39m]\u001b[38;5;241m==\u001b[39m\u001b[38;5;124m'\u001b[39m\u001b[38;5;124mCUNDINAMARCA\u001b[39m\u001b[38;5;124m'\u001b[39m \u001b[38;5;129;01mor\u001b[39;00m df_categorico[\u001b[38;5;124m'\u001b[39m\u001b[38;5;124mDEPARTAMENTO\u001b[39m\u001b[38;5;124m'\u001b[39m]\u001b[38;5;241m==\u001b[39m\u001b[38;5;124m'\u001b[39m\u001b[38;5;124mANTIOQUIA\u001b[39m\u001b[38;5;124m'\u001b[39m \u001b[38;5;129;01mor\u001b[39;00m df_categorico[\u001b[38;5;124m'\u001b[39m\u001b[38;5;124mDEPARTAMENTO\u001b[39m\u001b[38;5;124m'\u001b[39m]\u001b[38;5;241m==\u001b[39m\u001b[38;5;124m'\u001b[39m\u001b[38;5;124mVALLE\u001b[39m\u001b[38;5;124m'\u001b[39m:\n\u001b[0;32m      3\u001b[0m        \u001b[38;5;28mprint\u001b[39m(i)\n",
      "\u001b[1;31mAttributeError\u001b[0m: 'str' object has no attribute 'size'"
     ]
    }
   ],
   "source": [
    " for i in range(0,path.size()):\n",
    "    if df_categorico['DEPARTAMENTO']=='CUNDINAMARCA' or df_categorico['DEPARTAMENTO']=='ANTIOQUIA' or df_categorico['DEPARTAMENTO']=='VALLE':\n",
    "        print(i)"
   ]
  },
  {
   "cell_type": "code",
   "execution_count": 16,
   "id": "e1438db3-89d2-4875-a45a-3983394e4864",
   "metadata": {
    "tags": []
   },
   "outputs": [
    {
     "data": {
      "image/png": "[encoded data removed]",
      "text/plain": [
       "<Figure size 640x480 with 1 Axes>"
      ]
     },
     "metadata": {},
     "output_type": "display_data"
    }
   ],
   "source": [
    "frecuencia_departamento.plot(kind='bar')\n",
    "plt.title('Frecuencia de la variable departamento')\n",
    "plt.xlabel('departamento')\n",
    "plt.ylabel('Frecuencia')\n",
    "plt.show()"
   ]
  },
  {
   "cell_type": "code",
   "execution_count": null,
   "id": "956cbf64-86ca-4c5a-a514-7052b609cbc0",
   "metadata": {
    "tags": []
   },
   "outputs": [],
   "source": []
  },
  {
   "cell_type": "code",
   "execution_count": null,
   "id": "7b29dc7a-b5cc-4293-abb3-b0d008e6401d",
   "metadata": {},
   "outputs": [],
   "source": []
  }
 ],
 "metadata": {
  "kernelspec": {
   "display_name": "Python 3 (ipykernel)",
   "language": "python",
   "name": "python3"
  },
  "language_info": {
   "codemirror_mode": {
    "name": "ipython",
    "version": 3
   },
   "file_extension": ".py",
   "mimetype": "text/x-python",
   "name": "python",
   "nbconvert_exporter": "python",
   "pygments_lexer": "ipython3",
   "version": "3.11.4"
  }
 },
 "nbformat": 4,
 "nbformat_minor": 5
}
